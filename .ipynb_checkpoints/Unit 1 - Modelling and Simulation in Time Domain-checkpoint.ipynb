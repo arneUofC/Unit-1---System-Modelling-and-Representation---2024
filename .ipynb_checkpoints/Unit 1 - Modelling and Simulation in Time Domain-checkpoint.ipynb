{
 "cells": [
  {
   "cell_type": "markdown",
   "id": "37cb910b",
   "metadata": {
    "slideshow": {
     "slide_type": "slide"
    }
   },
   "source": [
    "# Unit 1 - Modelling and Representations of Systems"
   ]
  },
  {
   "cell_type": "markdown",
   "id": "93ab22b7",
   "metadata": {
    "slideshow": {
     "slide_type": "slide"
    }
   },
   "source": [
    "# Outline - Unit 1 - Modelling and Representations of Systems\n",
    "- Modelling of electrical and mechanical systems\n",
    "    - Electric circuits with resistors, capacitors, inductors, op-amps\n",
    "    - Translational mechanical systems\n",
    "    - Rotational mechanical systems\n",
    "- Simulation of a system\n",
    "    - Response due to initial conditions\n",
    "    - Step response\n",
    "    - Response to any input\n",
    "- Representations\n",
    "    - Differential equation\n",
    "    - Transfer function\n",
    "    - State-Space equations\n",
    "    - Frequency domain\n",
    "- Characteristics of a system\n",
    "    - Settling Time\n",
    "    - Maximum overshoot\n",
    "    - Rise time\n",
    "    - Stability\n",
    "- Key Concept\n",
    "    - Poles\n",
    "    - Zeros\n",
    "- Plots\n",
    "    - Time domain response\n",
    "    - S-Plane\n",
    "    - Bode\n",
    "    \n",
    "A fair amount of this material should sound familiar! This Unit is largely review, we are bringing together material from different courses and applying it."
   ]
  },
  {
   "cell_type": "markdown",
   "id": "b0bf78a0",
   "metadata": {
    "slideshow": {
     "slide_type": "slide"
    }
   },
   "source": [
    "# Unit 1 - Modelling and Representations of Systems\n",
    "# Part 1 - Modelling and Simulation in Time Domain\n",
    "\n",
    "## i.e. Working directly with differential equations\n",
    "\n",
    "- Modelling of electrical and mechanical systems\n",
    "    - Electric circuits with resistors, capacitors, inductors, op-amps\n",
    "    - Translational mechanical systems\n",
    "    - Rotational mechanical systems\n",
    "- Simulation of a system\n",
    "    - Response due to initial conditions\n",
    "- Representations\n",
    "    - Differential equation\n",
    "- Characteristics of a system\n",
    "    - Settling Time\n",
    "- Key Concept\n",
    "    - Poles\n",
    "    - Zeros\n",
    "- Plots\n",
    "    - Time domain response\n"
   ]
  },
  {
   "cell_type": "markdown",
   "id": "30fdc063",
   "metadata": {
    "slideshow": {
     "slide_type": "fragment"
    }
   },
   "source": [
    "Required Viewing before this lecture:\n",
    "- Modelling Translational Mechanical Systems\n",
    "- Modelling Rotational Mechanical Systems\n",
    "- Modelling Electrical Systems\n",
    "\n",
    "Sections of textbook:\n",
    "- Chapter 3"
   ]
  },
  {
   "cell_type": "markdown",
   "id": "6c39a54e",
   "metadata": {
    "slideshow": {
     "slide_type": "slide"
    }
   },
   "source": [
    "# Modelling\n",
    ">'In a sense, there is an impenetrable but transparent screen between our world of mathematical descriptions and the real world. We can look through this window and compare certain aspects of the physical system with its mathematical description, but we can never establish any exact connection between them. The question of nature's susceptibility to mathematical description has some deep philosophical aspects, and in practical terms we have to take a more pragmatic view of models. **Our acceptance of models should thus be guided by \"usefulness\" rather than \"truth\"**.'\n",
    "\n",
    "                                                              --Lennart Ljung\n",
    "\n",
    "![modelling](modelling.png \"Modelling\")\n",
    "![Lennart Ljung](ljung.jpg \"Lennart Ljung\")"
   ]
  },
  {
   "cell_type": "markdown",
   "id": "cf5117f3",
   "metadata": {
    "slideshow": {
     "slide_type": "slide"
    }
   },
   "source": [
    "# Modelling Dynamical Systems\n",
    "It is amazing how many types of systems can be modelled using differential equations! \n",
    "\n",
    "| Electrical Circuits | Translational Mechanical <br>Systems | Rotational Mechanical <br>Systems | Thermal Systems | Hydrological Systems |\n",
    "| --- | --- | --- | --- | --- |\n",
    "| $v(t)$ - voltage <br>$q(t)$ - charge* | $f(t)$ - force <br>$x(t)$ - position | $T(t)$ - torque <br>$\\theta(t)$ - angle | xxx | xxx |\n",
    "| Capacitor <br>$v(t) = \\frac{1}{C}q(t)$ | Spring <br>$f(t) = Kx(t)$ | Spring <br>$T(t)=K\\theta(t)$ | xxx | xxx |\n",
    "| Resistor <br>$v(t) = R \\frac{\\text{d}q(t)}{\\text{dt}}$ | Damper <br>$f(t) = f_v\\frac{\\text{d}x(t)}{\\text{dt}}$ | Damper <br>$T(t)=D\\frac{\\text{d}\\theta(t)}{\\text{dt}}$ | xxx | xxx |\n",
    "| Inductor <br>$v(t) = L \\frac{\\text{d}^2q(t)}{\\text{dt}^2}$ | Mass <br>$f(t) = M\\frac{\\text{d}^2x(t)}{\\text{dt}^2}$ | Inertia <br>$T(t)=J\\frac{\\text{d}^2\\theta(t)}{\\text{dt}^2}$ | xxx | xxx |\n",
    "\n",
    "*recall that current is equal to moving charges, i.e. $i(t) = \\frac{\\text{d}q(t)}{\\text{dt}}$\n",
    "\n",
    "Plus many more systems: populations, radioactive decay, economics, chemical processes, biological processes, etc.\n",
    "\n",
    "# What is so special about differential equations? Why are they so common? \n",
    "\n",
    "Suggestions:\n",
    "- \"Time and space are continuous, therefore the equations governing changes in time and space should reflect this continuity\" on Stack Exchange (https://physics.stackexchange.com/questions/349226/why-differential-equations)\n",
    "- \"The fact that the behavior of models described by differential equations has the property of being *locally specified* explains their prevalence: in time, there is no *action at a distance*.\" from \"Introduction to Mathematical Systems Theory: A Behavioral Approach\" by Jan Willem Polderman and Jan C. Willems.\n",
    "\n",
    "\n"
   ]
  },
  {
   "cell_type": "markdown",
   "id": "ddc0bfa2",
   "metadata": {
    "slideshow": {
     "slide_type": "slide"
    }
   },
   "source": [
    "# Modelling Rotational Mechanical Systems\n",
    "\n",
    "Rotating Disks:\n",
    "\n",
    "![Rotating Disk](Rotating_Disk_Galaxy.jpg \"Rotating Disk\")"
   ]
  },
  {
   "cell_type": "markdown",
   "id": "3bcc2a03",
   "metadata": {
    "slideshow": {
     "slide_type": "slide"
    }
   },
   "source": [
    "![1 Disk Graphic Diagram](1diskSimpleGraphic.png \"1 Disk Graphic Diagram\")\n",
    "\n",
    "A torque is applied to a thin flexible rod. A disk is attached to the rod. The rod is supported by bearings on the left side of the disk. The angular position of the rod at both ends is measured. \n",
    "\n",
    "We will:\n",
    "- Obtain governing differential equations,\n",
    "- Investigate effect of initial conditions on the setup."
   ]
  },
  {
   "cell_type": "markdown",
   "id": "c0bdac77",
   "metadata": {
    "slideshow": {
     "slide_type": "fragment"
    }
   },
   "source": [
    "# Schematic Diagram \n",
    "![1 Disk Schematic Diagram](1diskSimpleSchematic.png \"1 Disk Schematic Diagram\")\n"
   ]
  },
  {
   "cell_type": "markdown",
   "id": "bca9600c",
   "metadata": {
    "slideshow": {
     "slide_type": "fragment"
    }
   },
   "source": [
    "# In Class Activity!\n",
    "\n",
    "Draw the free body diagram corresponding to the schematic."
   ]
  },
  {
   "cell_type": "markdown",
   "id": "3ea320cd",
   "metadata": {
    "slideshow": {
     "slide_type": "fragment"
    }
   },
   "source": [
    "# Free Body Diagram\n",
    "![1 Disk Free Body Diagram](1diskSimpleFreeBody.png \"1 Disk Free Body Diagram\")\n"
   ]
  },
  {
   "cell_type": "markdown",
   "id": "8825b0c7",
   "metadata": {
    "slideshow": {
     "slide_type": "fragment"
    }
   },
   "source": [
    "Notes regarding the free-body diagram. In order to determine the directions of the torques:\n",
    "- I have selected clock-wise to be the positive direction.\n",
    "- The torque due to the bearings (friction) acts to oppose the motion of the rod, so it acts in the negative direction. The angle of the rod at the location of the bearings is $\\theta_2$. Therefore this torque is only dependant on $\\theta_2$. The expression for the torque due to friction is:\n",
    "$$\n",
    "\\begin{align*}\n",
    "T_{B} &= b \\frac{\\text{d}\\theta_2}{\\text{dt}}\n",
    "\\end{align*}\n",
    "$$\n",
    "- It is easier to split the torque due to the spring into two parts. Each part is associated with an angular position $\\theta_1$ and $\\theta_2$.\n",
    "    - In order to determine the direction of the arrow for the component of the spring torque due to $\\theta_1$, perform the following thought experiment: \n",
    "        - Hold $\\theta_2$ constant (i.e. prevent the disk from moving).\n",
    "        - Rotate $\\theta_1$ in the positive direction (i.e. use the motor to move $\\theta_1$ a small amount in the positive direction).\n",
    "        - The disk now experiences a force due to the spring pulling it in the positve direction (it wants to return to its resting position). Remeber we are expressing all torques from the point of view of the disk. \n",
    "        - Therefore we write the component of the spring torque due to moving $\\theta_1$ as $k \\theta_1$ in the positive direction (clockwise)\n",
    "    - In order to determine the direction of the arrow for the component of the spring torque due to $\\theta_2$, perform the following thought experiment:\n",
    "        - Hold $\\theta_1$ constant (prevent the motor from moving).\n",
    "        - Rotate $\\theta_2$ in the positive direction (i.e. move the disk by a small degree in the positive direction).\n",
    "        - The disk now experiences a force due to the spring pulling it in the negative direction (again it wants to return to its resting position). Remeber we are expressing all torques from the point of view of the disk. \n",
    "        - Therefore we write the component of the spring torque due to moving $\\theta_2$ as $k \\theta_2$ in the negative direction (counter-clockwise)"
   ]
  },
  {
   "cell_type": "markdown",
   "id": "f8f8eb75",
   "metadata": {
    "slideshow": {
     "slide_type": "fragment"
    }
   },
   "source": [
    "# In Class Activity!\n",
    "\n",
    "Write down the differential equations for this system. Collect all terms with $\\theta_1$ on one side of the equality and all terms with $\\theta_2$ on the other side."
   ]
  },
  {
   "cell_type": "markdown",
   "id": "60dd2129",
   "metadata": {
    "slideshow": {
     "slide_type": "fragment"
    }
   },
   "source": [
    "# In Class Activity!\n",
    "\n",
    "To start, let's calculate the response due to initial conditions (i.e. keep $\\theta_1=0$). \n",
    "\n",
    "In our example we can twist the disk to an initial starting position, and then let go. \n",
    "\n",
    "Recall from the video, MATH 375 or AMAT 307 that the solution to this type of equation has the form $e^{at}$.\n",
    "\n",
    "Determine the general solution.\n",
    "\n",
    "Hint: plug $\\theta_2(t) = e^{at}$ into the differential equation and solve for $a$."
   ]
  },
  {
   "cell_type": "markdown",
   "id": "0fdc5d78",
   "metadata": {
    "slideshow": {
     "slide_type": "fragment"
    }
   },
   "source": [
    "Plug $\\theta_2(t) = e^{at}$ into the equation:\n",
    "    \n",
    "$$\n",
    "\\begin{align*}\n",
    "J \\frac{\\text{d}^2}{\\text{dt}^2}e^{at} + b\\frac{\\text{d}}{\\text{dt}}e^{at} + k e^{at} &= 0 \\\\\n",
    "Ja^2e^{at} + bae^{at} + ke^{at} &= 0 \\\\\n",
    "(Ja^2 + b a + k)e^{at} &= 0 \\\\\n",
    "(a-p_1)(a - p_2)e^{at} &= 0\n",
    "\\end{align*}\n",
    "$$\n",
    "\n",
    "We obtain the general solution:\n",
    "$$\n",
    "\\begin{align*}\n",
    "\\theta_2(t) = c_1 e^{p_1 t} + c_2 e^{p_2 t}\n",
    "\\end{align*}\n",
    "$$\n"
   ]
  },
  {
   "cell_type": "markdown",
   "id": "a4136416",
   "metadata": {
    "slideshow": {
     "slide_type": "fragment"
    }
   },
   "source": [
    "# In Class Activity!\n",
    "\n",
    "Determine the particular solution (i.e. solve for $c_1$ and $c_2$). \n",
    "\n",
    "In order to determine the particular solution, need to know the initial conditions of the system.\n",
    "\n",
    "For dynamical systems, usually the initial conditions have the form: \n",
    "- position at time $t=0$ is known,\n",
    "- velocity at time $t=0$ is known.\n",
    "\n",
    "So in our case:\n",
    "- $\\theta_2(0)$ is known\n",
    "- $\\theta_2'(0)$ is known\n",
    "\n",
    "Use these initial conditions to find the particular solution (i.e. solve for $c_1$ and $c_2$). \n",
    "\n",
    "Hint: start with general solution, and plug in $t=0$."
   ]
  },
  {
   "cell_type": "markdown",
   "id": "c8bbdb53",
   "metadata": {
    "slideshow": {
     "slide_type": "fragment"
    }
   },
   "source": [
    "$$\n",
    "\\begin{align*}\n",
    "\\theta_2(t) &= c_1 e^{p_1 t} + c_2 e^{p_2 t}\n",
    "\\end{align*}\n",
    "$$\n",
    "Plug in $t=0$:\n",
    "$$\n",
    "\\begin{align*}\n",
    "\\theta_2(0) &= c_1 + c_2 \n",
    "\\end{align*}\n",
    "$$\n",
    "This gives us one equation. \n",
    "\n",
    "Now, take derivative of general solution, and plug in $t=0$ to get second equation.\n"
   ]
  },
  {
   "cell_type": "markdown",
   "id": "00e1936e",
   "metadata": {
    "slideshow": {
     "slide_type": "fragment"
    }
   },
   "source": [
    "$$\n",
    "\\begin{align*}\n",
    "\\frac{\\text{d}}{\\text{dt}} \\theta_2(t) &= \\frac{\\text{d}}{\\text{dt}} \\Big ( c_1 e^{p_1 t} + c_2 e^{p_2 t} \\Big ) \\\\\n",
    "&= c_1 p_1 e^{p_1 t} + c_2 p_2 e^{p_2 t} \n",
    "\\end{align*}\n",
    "$$\n",
    "Plug in $t=0$:\n",
    "$$\n",
    "\\begin{align*}\n",
    "\\theta_2'(0) &= c_1p_1 + c_2p_2 \n",
    "\\end{align*}\n",
    "$$\n",
    "This gives us another equation. \n",
    "\n",
    "So we have 2 equations, 2 unknowns and $c_1$ and $c_2$ appear linearly. Can use linear algebra to solve for $c_1$ and $c_2$. \n",
    "\n",
    "Set up the linear equations:"
   ]
  },
  {
   "cell_type": "markdown",
   "id": "9818d5a4",
   "metadata": {
    "slideshow": {
     "slide_type": "fragment"
    }
   },
   "source": [
    "$$\n",
    "\\begin{align*}\n",
    "\\begin{bmatrix} 1 & 1 \\\\ p_1 & p_2 \\end{bmatrix}\n",
    "\\begin{bmatrix} c_1 \\\\ c_2 \\end{bmatrix}\n",
    "=\n",
    "\\begin{bmatrix} \\theta_2(0) \\\\ \\theta_2'(0) \\end{bmatrix}\n",
    "\\end{align*}\n",
    "$$\n",
    "And we can solve for $c_1$ and $c_2$:\n",
    "$$\n",
    "\\begin{align*}\n",
    "\\begin{bmatrix} c_1 \\\\ c_2 \\end{bmatrix}\n",
    "=\n",
    "\\begin{bmatrix} 1 & 1 \\\\ p_1 & p_2 \\end{bmatrix}^{-1}\n",
    "\\begin{bmatrix} \\theta_2(0) \\\\ \\theta_2'(0) \\end{bmatrix}\n",
    "\\end{align*}\n",
    "$$\n",
    "\n"
   ]
  },
  {
   "cell_type": "markdown",
   "id": "264612d3",
   "metadata": {
    "slideshow": {
     "slide_type": "slide"
    }
   },
   "source": [
    "# Response to initial conditions in practical system"
   ]
  },
  {
   "cell_type": "markdown",
   "id": "dd675db1",
   "metadata": {
    "slideshow": {
     "slide_type": "fragment"
    }
   },
   "source": [
    "<div align=\"middle\">\n",
    "<video width=\"80%\" controls>\n",
    "      <source src=\"response to initial conditions 1.mp4\" type=\"video/mp4\">\n",
    "</video></div>"
   ]
  },
  {
   "cell_type": "markdown",
   "id": "a8913198",
   "metadata": {
    "slideshow": {
     "slide_type": "fragment"
    }
   },
   "source": [
    "<div align=\"middle\">\n",
    "<video width=\"80%\" controls>\n",
    "      <source src=\"response to initial conditions 2.mp4\" type=\"video/mp4\">\n",
    "</video></div>"
   ]
  },
  {
   "cell_type": "markdown",
   "id": "8fef27ea",
   "metadata": {
    "slideshow": {
     "slide_type": "fragment"
    }
   },
   "source": [
    "# Plots\n",
    "\n",
    "![response to initial conditions](response_due_to_initial_conditions_1_annotated.png \"1 Disk Plot\")\n",
    "\n",
    "Cropped figure\n",
    "- this is the response of the 1-disk system due to initial conditions $x(0) = 33$, $x'(0)=0$.\n",
    "\n",
    "![response to initial conditions](response_to_initial_conditions_1_cropped.png \"1 Disk Plot\")"
   ]
  },
  {
   "cell_type": "markdown",
   "id": "85040d3e",
   "metadata": {
    "slideshow": {
     "slide_type": "slide"
    }
   },
   "source": [
    "# In class activity!\n",
    "\n",
    "Let's put it all together in Python!\n",
    "- Simulate some responses to different initial conditions.\n",
    "- Change the parameters of the system (spring constant and damping) to see effect on system response.\n",
    "    - What happens when you make the spring stiffer/softer?\n",
    "    - What happens when you add more/less damping?\n",
    "    - What happens when you add more/ess inertia?\n",
    "- What happens when the roots of the characteristic equation are further away from the origin (bigger)?\n",
    "- What happens when the characteristic equation has positive roots?"
   ]
  },
  {
   "cell_type": "code",
   "execution_count": 1,
   "id": "d2141ee4",
   "metadata": {
    "slideshow": {
     "slide_type": "fragment"
    }
   },
   "outputs": [],
   "source": [
    "import scipy as sp\n",
    "import numpy as np\n",
    "import matplotlib.pyplot as plt\n",
    "import math"
   ]
  },
  {
   "cell_type": "code",
   "execution_count": 8,
   "id": "b2dd8187",
   "metadata": {
    "slideshow": {
     "slide_type": "fragment"
    }
   },
   "outputs": [
    {
     "name": "stdout",
     "output_type": "stream",
     "text": [
      "Roots of characteristic equation: -0.50+7.05j and -0.50-7.05j\n",
      "Particular solution is:  3.14-0.22j exp( -0.50+7.05j t) + 3.14+0.22j exp( -0.50-7.05j t)\n"
     ]
    },
    {
     "data": {
      "image/png": "[encoded data removed]",
      "text/plain": [
       "<Figure size 640x480 with 1 Axes>"
      ]
     },
     "metadata": {},
     "output_type": "display_data"
    }
   ],
   "source": [
    "# specify parameters\n",
    "b = 1\n",
    "J = 1\n",
    "k = 50\n",
    "\n",
    "#specify initial conditions\n",
    "theta2_0 = 2*math.pi\n",
    "dtheta2_0 = 0\n",
    "\n",
    "# find roots of characteristic equation\n",
    "characteristic_equation = np.array([J, b, k])\n",
    "r = np.roots(characteristic_equation)\n",
    "\n",
    "print('Roots of characteristic equation: ', '{:.2f}'.format(r[0]), ' and ', '{:.2f}'.format(r[1]), sep='')\n",
    "\n",
    "#find coeficients of general solution using initial conditions\n",
    "initial_conditions = np.array([theta2_0, dtheta2_0])\n",
    "A = np.array([[1, 1], [r[0], r[1]]])\n",
    "coefficients = np.linalg.inv(A) @ initial_conditions  #note @ means matrix multiply in python\n",
    "\n",
    "print('Particular solution is: ', '{:.2f}'.format(coefficients[0]), 'exp(', '{:.2f}'.format(r[0]), 't) +', '{:.2f}'.format(coefficients[1]), 'exp(', '{:.2f}'.format(r[1]), 't)')\n",
    "\n",
    "# plot the solution\n",
    "N = 10000   #number of points\n",
    "Tf = 20     #time in seconds of simulation\n",
    "\n",
    "# generate the data\n",
    "t = np.linspace(0,Tf,N)\n",
    "theta_2 = coefficients[0]*np.exp(r[0]*t) + coefficients[1]*np.exp(r[1]*t)\n",
    "fig, ax = plt.subplots(1,1)\n",
    "ax.plot(t,theta_2.real)\n",
    "ax.set_title(r'Response of $\\theta_2$ to Initial Conditions')\n",
    "ax.set_xlabel('Time (s)')\n",
    "ax.set_ylabel(r'$\\theta_2$')\n",
    "\n",
    "plt.show()\n"
   ]
  },
  {
   "cell_type": "markdown",
   "id": "af46ae9e",
   "metadata": {
    "slideshow": {
     "slide_type": "slide"
    }
   },
   "source": [
    "# So far we have learned:\n",
    "- Rotational mechanical systems can be modelled using differential equations\n",
    "- The differential equation can be solved using standard analysis learned in MATH 375 or AMAT 307\n",
    "- Initial conditions of the system have physical meaning\n",
    "- Settling time\n",
    "\n",
    "Solving differential equations in this way is tedious, however, we could do it. \n",
    "\n",
    "On the other hand over time people have come up with helpful tools that either:\n",
    "- simplify the task of solving differential equations (for example: Laplace)\n",
    "- give extra insight (for example: Fourier)\n",
    "- or both! "
   ]
  }
 ],
 "metadata": {
  "celltoolbar": "Slideshow",
  "kernelspec": {
   "display_name": "Python 3 (ipykernel)",
   "language": "python",
   "name": "python3"
  },
  "language_info": {
   "codemirror_mode": {
    "name": "ipython",
    "version": 3
   },
   "file_extension": ".py",
   "mimetype": "text/x-python",
   "name": "python",
   "nbconvert_exporter": "python",
   "pygments_lexer": "ipython3",
   "version": "3.11.2"
  },
  "rise": {
   "scroll": true
  },
  "toc": {
   "base_numbering": 1,
   "nav_menu": {},
   "number_sections": true,
   "sideBar": false,
   "skip_h1_title": false,
   "title_cell": "Table of Contents",
   "title_sidebar": "Contents",
   "toc_cell": false,
   "toc_position": {},
   "toc_section_display": true,
   "toc_window_display": false
  },
  "vscode": {
   "interpreter": {
    "hash": "aae2aa8d6042359e33b866bd60410f1e12f989f850a82b777f7146ee7b999886"
   }
  }
 },
 "nbformat": 4,
 "nbformat_minor": 5
}
